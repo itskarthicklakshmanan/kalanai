{
 "cells": [
  {
   "cell_type": "markdown",
   "metadata": {},
   "source": [
    "# 3D Photography\n",
    "> using Context-aware Layered Depth Inpainting\n",
    "\n",
    "- toc: true \n",
    "- badges: true\n",
    "- comments: true\n",
    "- categories: [computer vision, image analysis]\n",
    "- image: images/3d.png\n"
   ]
  },
  {
   "cell_type": "markdown",
   "metadata": {},
   "source": [
    "\n",
    "An interesting approach for converting a single RGB-D input image into a 3D photo, i.e., a multi-layer representation for novel view synthesis that contains hallucinated color and depth structures in regions occluded in the original view. Using a Layered Depth Image with explicit pixel connectivity as underlying representation, a learning-based inpainting model is presented that iteratively synthesizes new local color-and-depth content into the occluded region in a spatial context-aware manner.\n"
   ]
  },
  {
   "cell_type": "markdown",
   "metadata": {},
   "source": [
    "![](img/3d.png)"
   ]
  },
  {
   "cell_type": "markdown",
   "metadata": {},
   "source": [
    "# Video"
   ]
  },
  {
   "cell_type": "markdown",
   "metadata": {},
   "source": [
    "> youtube:https://youtu.be/AtsQvm5U_2o\n"
   ]
  },
  {
   "cell_type": "markdown",
   "metadata": {},
   "source": [
    "\n",
    "> youtube: https://youtu.be/rHnOr3oZ5VI"
   ]
  },
  {
   "cell_type": "markdown",
   "metadata": {},
   "source": [
    "## Citation\n",
    "\n",
    "Meng-Li Shih, Shih-Yang Su, Johannes Kopf, and Jia-Bin Huang. \"3D Photography using Context-aware Layered Depth Inpainting\", in IEEE Conference on Computer Vision and Pattern Recognition (CVPR), 2020\n",
    "\n",
    "Home page[<a href=\"https://shihmengli.github.io/3D-Photo-Inpainting/\" target=\"_blank\"> Link</a>]\n",
    "\n",
    "Supplimentary website [<a href=\"https://filebox.ece.vt.edu/~jbhuang/project/3DPhoto/supp_web/result.html\" target=\"_blank\"> Link </a>]\n",
    "GitHub[<a href=\"https://github.com/vt-vl-lab/3d-photo-inpainting\" target=\"_blank\"> Link </a>]\n"
   ]
  }
 ],
 "metadata": {
  "kernelspec": {
   "display_name": "Python 3",
   "language": "python",
   "name": "python3"
  },
  "language_info": {
   "codemirror_mode": {
    "name": "ipython",
    "version": 3
   },
   "file_extension": ".py",
   "mimetype": "text/x-python",
   "name": "python",
   "nbconvert_exporter": "python",
   "pygments_lexer": "ipython3",
   "version": "3.7.4"
  },
  "varInspector": {
   "cols": {
    "lenName": 16,
    "lenType": 16,
    "lenVar": 40
   },
   "kernels_config": {
    "python": {
     "delete_cmd_postfix": "",
     "delete_cmd_prefix": "del ",
     "library": "var_list.py",
     "varRefreshCmd": "print(var_dic_list())"
    },
    "r": {
     "delete_cmd_postfix": ") ",
     "delete_cmd_prefix": "rm(",
     "library": "var_list.r",
     "varRefreshCmd": "cat(var_dic_list()) "
    }
   },
   "types_to_exclude": [
    "module",
    "function",
    "builtin_function_or_method",
    "instance",
    "_Feature"
   ],
   "window_display": false
  }
 },
 "nbformat": 4,
 "nbformat_minor": 4
}

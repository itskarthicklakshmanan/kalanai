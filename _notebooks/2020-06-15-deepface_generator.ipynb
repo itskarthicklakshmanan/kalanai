{
 "cells": [
  {
   "cell_type": "markdown",
   "metadata": {},
   "source": [
    "# Deep Face generator\n",
    "> Deep Learning based Generation of Face Images from Sketches\n",
    "\n",
    "- toc: true \n",
    "- badges: true\n",
    "- comments: true\n",
    "- image: images/facecp.png"
   ]
  },
  {
   "cell_type": "markdown",
   "metadata": {},
   "source": [
    "\n",
    "A team of researchers from the Chinese Academy of Sciences and the City University of Hong Kong presented a novel deep learning framework for synthesizing realistic face images from rough and/or incomplete freehand sketches. \n"
   ]
  },
  {
   "cell_type": "markdown",
   "metadata": {},
   "source": [
    "The system takes a local-to-global approach by first decomposing a sketched face into components, refining its individual components by projecting them to component manifolds defined by the existing component samples in the feature spaces, mapping the refined feature vectors to the feature maps for spatial combination, and finally translating the combined feature maps to realistic images. This approach naturally supports local editing and makes the involved network easy to train from a training dataset of not very large scale."
   ]
  },
  {
   "cell_type": "markdown",
   "metadata": {},
   "source": [
    "Deep learning uses sketch-to-image translation usually takes ‘hard’ constraints or fixed sketches then try to reconstruct the missing texture/pattern or shading information between line strokes, in this new approach that implicitly learn a space of plausible face sketches from real face sketch images and find the point in this space that best approximates the input sketch."
   ]
  },
  {
   "cell_type": "markdown",
   "metadata": {},
   "source": [
    "The system consists of:\n",
    "    \n",
    " - CE (Component Embedding), \n",
    " - FM (Feature Mapping), and \n",
    " - IS (Image Synthesis)."
   ]
  },
  {
   "cell_type": "markdown",
   "metadata": {},
   "source": [
    "`![](images/df.png)`"
   ]
  },
  {
   "cell_type": "markdown",
   "metadata": {},
   "source": [
    "## APPLICATIONS\n"
   ]
  },
  {
   "cell_type": "markdown",
   "metadata": {},
   "source": [
    "\n",
    "### Face Morphing\n",
    "\n",
    "This framework follows a simple but effective morphing approach by:\n",
    "    \n",
    "1) decomposing a pair of source and target face sketches in the training dataset into five components;\n",
    "\n",
    "2) encoding the component sketches as feature vectors in the corresponding feature spaces; \n",
    "\n",
    "3) performing linear interpolation between the source and target feature vectors for the corresponding components; \n",
    "\n",
    "4) finally feeding the interpolated feature vectors to the FM and IS module to get intermediate face images.\n",
    "\n"
   ]
  },
  {
   "cell_type": "markdown",
   "metadata": {},
   "source": [
    "`![](images/face_morphing.png)`"
   ]
  },
  {
   "cell_type": "markdown",
   "metadata": {},
   "source": [
    "\n",
    "### Face Copy-Paste\n",
    "\n",
    "Several synthesized new faces by re-combining eyes, nose, mouth and the remainder region from four source sketches. The image synthesis sub-network is able to resolve the inconsistencies between face components from different sources in terms of both lighting and shape.\n",
    "\n"
   ]
  },
  {
   "cell_type": "markdown",
   "metadata": {},
   "source": [
    "`![](images/facecp.png)`"
   ]
  },
  {
   "cell_type": "markdown",
   "metadata": {},
   "source": [
    "# Video"
   ]
  },
  {
   "cell_type": "markdown",
   "metadata": {},
   "source": [
    "\n",
    "> youtube: https://youtu.be/HSunooUTwKs"
   ]
  },
  {
   "cell_type": "markdown",
   "metadata": {},
   "source": [
    "## Reference\n",
    "\n",
    "The paper-- DeepFaceDrawing: Deep Generation of Face Images from Sketches [<a href=\"https://arxiv.org/pdf/2006.01047.pdf\" target=\"_blank\"> Article pdf</a>]"
   ]
  }
 ],
 "metadata": {
  "kernelspec": {
   "display_name": "Python 3",
   "language": "python",
   "name": "python3"
  },
  "language_info": {
   "codemirror_mode": {
    "name": "ipython",
    "version": 3
   },
   "file_extension": ".py",
   "mimetype": "text/x-python",
   "name": "python",
   "nbconvert_exporter": "python",
   "pygments_lexer": "ipython3",
   "version": "3.7.4"
  },
  "varInspector": {
   "cols": {
    "lenName": 16,
    "lenType": 16,
    "lenVar": 40
   },
   "kernels_config": {
    "python": {
     "delete_cmd_postfix": "",
     "delete_cmd_prefix": "del ",
     "library": "var_list.py",
     "varRefreshCmd": "print(var_dic_list())"
    },
    "r": {
     "delete_cmd_postfix": ") ",
     "delete_cmd_prefix": "rm(",
     "library": "var_list.r",
     "varRefreshCmd": "cat(var_dic_list()) "
    }
   },
   "types_to_exclude": [
    "module",
    "function",
    "builtin_function_or_method",
    "instance",
    "_Feature"
   ],
   "window_display": false
  }
 },
 "nbformat": 4,
 "nbformat_minor": 4
}
